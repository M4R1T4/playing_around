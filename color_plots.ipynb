{
 "cells": [
  {
   "cell_type": "code",
   "execution_count": 9,
   "metadata": {},
   "outputs": [],
   "source": [
    "# dataframe and plotting\n",
    "import pandas as pd\n",
    "import numpy as np\n",
    "import seaborn as sns\n",
    "import matplotlib.pyplot as plt\n",
    "from matplotlib.colors import ListedColormap\n",
    "\n",
    "# machine learning\n",
    "from sklearn.model_selection import train_test_split\n",
    "from sklearn.metrics import accuracy_score\n"
   ]
  },
  {
   "cell_type": "code",
   "execution_count": 10,
   "metadata": {},
   "outputs": [
    {
     "data": {
      "image/png": "[encoded data removed]",
      "text/html": [
       "<div style=\"vertical-align: middle;\"><strong>from_list</strong> </div><div class=\"cmap\"><img alt=\"from_list colormap\" title=\"from_list\" style=\"border: 1px solid #555;\" src=\"data:image/png;base64,iVBORw0KGgoAAAANSUhEUgAAAgAAAABACAYAAABsv8+/AAAAGHRFWHRUaXRsZQBmcm9tX2xpc3QgY29sb3JtYXBDL89FAAAAHnRFWHREZXNjcmlwdGlvbgBmcm9tX2xpc3QgY29sb3JtYXABtCnOAAAAMHRFWHRBdXRob3IATWF0cGxvdGxpYiB2My43LjEsIGh0dHBzOi8vbWF0cGxvdGxpYi5vcmcqr/hNAAAAMnRFWHRTb2Z0d2FyZQBNYXRwbG90bGliIHYzLjcuMSwgaHR0cHM6Ly9tYXRwbG90bGliLm9yZwQJZ2oAAAF3SURBVHic7daxMQRgGABRJ1IIowHZlaEBwZUgMhfIRLKTmwuvFlRCCYYm/vHN2Pcq2HA3u5evn7N/5O54PZ2wzPb1czphmYvDdME6+++36YRl9pc30wnLbO4fpxOWefp4mE5Y5nb3PJ2wzNX7aTphqfPpAADg7xkAAAgyAAAQZAAAIMgAAECQAQCAIAMAAEEGAACCDAAABBkAAAgyAAAQZAAAIMgAAECQAQCAIAMAAEEGAACCDAAABBkAAAgyAAAQZAAAIMgAAECQAQCAIAMAAEEGAACCDAAABBkAAAgyAAAQZAAAIMgAAECQAQCAIAMAAEEGAACCDAAABBkAAAgyAAAQZAAAIMgAAECQAQCAIAMAAEEGAACCDAAABBkAAAgyAAAQZAAAIMgAAECQAQCAIAMAAEEGAACCDAAABBkAAAgyAAAQZAAAIMgAAECQAQCAIAMAAEEGAACCDAAABBkAAAgyAAAQZAAAIMgAAECQAQCAIAMAAEG/TqcPrhL43zIAAAAASUVORK5CYII=\"></div><div style=\"vertical-align: middle; max-width: 514px; display: flex; justify-content: space-between;\"><div style=\"float: left;\"><div title=\"#6495edff\" style=\"display: inline-block; width: 1em; height: 1em; margin: 0; vertical-align: middle; border: 1px solid #555; background-color: #6495edff;\"></div> under</div><div style=\"margin: 0 auto; display: inline-block;\">bad <div title=\"#00000000\" style=\"display: inline-block; width: 1em; height: 1em; margin: 0; vertical-align: middle; border: 1px solid #555; background-color: #00000000;\"></div></div><div style=\"float: right;\">over <div title=\"#ffff31ff\" style=\"display: inline-block; width: 1em; height: 1em; margin: 0; vertical-align: middle; border: 1px solid #555; background-color: #ffff31ff;\"></div></div>"
      ],
      "text/plain": [
       "<matplotlib.colors.ListedColormap at 0x1724aa450>"
      ]
     },
     "execution_count": 10,
     "metadata": {},
     "output_type": "execute_result"
    }
   ],
   "source": [
    "from matplotlib.colors import ListedColormap\n",
    "plot_colors = ['Cornflowerblue','#C43714','gold','#076B00','#8368CC','darkorange', 'navy', 'lightskyblue','#DA3287', '#FFFF31']\n",
    "my_cmap =ListedColormap(sns.color_palette(plot_colors).as_hex())\n",
    "sns.set_palette(plot_colors)\n",
    "my_cmap"
   ]
  },
  {
   "cell_type": "code",
   "execution_count": 11,
   "metadata": {},
   "outputs": [
    {
     "data": {
      "text/html": [
       "<div>\n",
       "<style scoped>\n",
       "    .dataframe tbody tr th:only-of-type {\n",
       "        vertical-align: middle;\n",
       "    }\n",
       "\n",
       "    .dataframe tbody tr th {\n",
       "        vertical-align: top;\n",
       "    }\n",
       "\n",
       "    .dataframe thead th {\n",
       "        text-align: right;\n",
       "    }\n",
       "</style>\n",
       "<table border=\"1\" class=\"dataframe\">\n",
       "  <thead>\n",
       "    <tr style=\"text-align: right;\">\n",
       "      <th></th>\n",
       "      <th>Datum</th>\n",
       "      <th>status</th>\n",
       "      <th>Firma</th>\n",
       "    </tr>\n",
       "  </thead>\n",
       "  <tbody>\n",
       "    <tr>\n",
       "      <th>0</th>\n",
       "      <td>2024-05-14</td>\n",
       "      <td>Absage</td>\n",
       "      <td>BVU Beratergruppe Verkehr + Umwelt GmbH</td>\n",
       "    </tr>\n",
       "    <tr>\n",
       "      <th>1</th>\n",
       "      <td>2024-05-17</td>\n",
       "      <td>Absage</td>\n",
       "      <td>CONTACT Software GmbH</td>\n",
       "    </tr>\n",
       "    <tr>\n",
       "      <th>2</th>\n",
       "      <td>2024-05-24</td>\n",
       "      <td>offen</td>\n",
       "      <td>ENERCON Global GmbH</td>\n",
       "    </tr>\n",
       "    <tr>\n",
       "      <th>3</th>\n",
       "      <td>2024-05-24</td>\n",
       "      <td>Absage</td>\n",
       "      <td>SALT AND PEPPER Holding GmbH &amp; Co. KG</td>\n",
       "    </tr>\n",
       "    <tr>\n",
       "      <th>4</th>\n",
       "      <td>2024-06-03</td>\n",
       "      <td>Absage</td>\n",
       "      <td>zollsoft</td>\n",
       "    </tr>\n",
       "    <tr>\n",
       "      <th>5</th>\n",
       "      <td>2024-06-04</td>\n",
       "      <td>offen</td>\n",
       "      <td>Atlas Elektronik</td>\n",
       "    </tr>\n",
       "    <tr>\n",
       "      <th>6</th>\n",
       "      <td>2024-06-05</td>\n",
       "      <td>offen</td>\n",
       "      <td>43IT</td>\n",
       "    </tr>\n",
       "    <tr>\n",
       "      <th>7</th>\n",
       "      <td>2024-06-07</td>\n",
       "      <td>offen</td>\n",
       "      <td>Universität der Bundeswehr München</td>\n",
       "    </tr>\n",
       "    <tr>\n",
       "      <th>8</th>\n",
       "      <td>2024-06-13</td>\n",
       "      <td>offen</td>\n",
       "      <td>HAT.tec GmbH</td>\n",
       "    </tr>\n",
       "    <tr>\n",
       "      <th>9</th>\n",
       "      <td>2024-06-13</td>\n",
       "      <td>Absage</td>\n",
       "      <td>valantic Software &amp; Technology Innovations GmbH</td>\n",
       "    </tr>\n",
       "    <tr>\n",
       "      <th>10</th>\n",
       "      <td>2024-06-13</td>\n",
       "      <td>Absage</td>\n",
       "      <td>MGA Ingenieurdienstleistungen GmbH</td>\n",
       "    </tr>\n",
       "    <tr>\n",
       "      <th>11</th>\n",
       "      <td>2024-06-13</td>\n",
       "      <td>Absage</td>\n",
       "      <td>BridgingIT GmbH</td>\n",
       "    </tr>\n",
       "    <tr>\n",
       "      <th>12</th>\n",
       "      <td>2024-06-17</td>\n",
       "      <td>offen</td>\n",
       "      <td>ACONEXT</td>\n",
       "    </tr>\n",
       "    <tr>\n",
       "      <th>13</th>\n",
       "      <td>2024-06-17</td>\n",
       "      <td>Absage</td>\n",
       "      <td>Andrena</td>\n",
       "    </tr>\n",
       "    <tr>\n",
       "      <th>14</th>\n",
       "      <td>2024-06-17</td>\n",
       "      <td>Absage</td>\n",
       "      <td>HMS Analytical Software GmbH</td>\n",
       "    </tr>\n",
       "    <tr>\n",
       "      <th>15</th>\n",
       "      <td>2024-06-17</td>\n",
       "      <td>Absage</td>\n",
       "      <td>AKKODIS GERMANY AS&amp;D GMBH</td>\n",
       "    </tr>\n",
       "    <tr>\n",
       "      <th>16</th>\n",
       "      <td>2024-06-20</td>\n",
       "      <td>offen</td>\n",
       "      <td>AKKODIS Sindelfingen</td>\n",
       "    </tr>\n",
       "    <tr>\n",
       "      <th>17</th>\n",
       "      <td>2024-06-20</td>\n",
       "      <td>offen</td>\n",
       "      <td>TransnetBW GmbH</td>\n",
       "    </tr>\n",
       "  </tbody>\n",
       "</table>\n",
       "</div>"
      ],
      "text/plain": [
       "         Datum  status                                             Firma\n",
       "0   2024-05-14  Absage           BVU Beratergruppe Verkehr + Umwelt GmbH\n",
       "1   2024-05-17  Absage                             CONTACT Software GmbH\n",
       "2   2024-05-24   offen                               ENERCON Global GmbH\n",
       "3   2024-05-24  Absage             SALT AND PEPPER Holding GmbH & Co. KG\n",
       "4   2024-06-03  Absage                                          zollsoft\n",
       "5   2024-06-04   offen                                  Atlas Elektronik\n",
       "6   2024-06-05   offen                                              43IT\n",
       "7   2024-06-07   offen                Universität der Bundeswehr München\n",
       "8   2024-06-13   offen                                      HAT.tec GmbH\n",
       "9   2024-06-13  Absage  valantic Software & Technology Innovations GmbH \n",
       "10  2024-06-13  Absage                MGA Ingenieurdienstleistungen GmbH\n",
       "11  2024-06-13  Absage                                   BridgingIT GmbH\n",
       "12  2024-06-17   offen                                           ACONEXT\n",
       "13  2024-06-17  Absage                                           Andrena\n",
       "14  2024-06-17  Absage                      HMS Analytical Software GmbH\n",
       "15  2024-06-17  Absage                         AKKODIS GERMANY AS&D GMBH\n",
       "16  2024-06-20   offen                              AKKODIS Sindelfingen\n",
       "17  2024-06-20   offen                                   TransnetBW GmbH"
      ]
     },
     "execution_count": 11,
     "metadata": {},
     "output_type": "execute_result"
    }
   ],
   "source": [
    "bewerbungen = pd.read_csv('data/bewerbungen.csv', )\n",
    "bewerbungen"
   ]
  },
  {
   "cell_type": "code",
   "execution_count": 12,
   "metadata": {},
   "outputs": [
    {
     "data": {
      "text/plain": [
       "Index(['Datum', 'status', 'Firma'], dtype='object')"
      ]
     },
     "execution_count": 12,
     "metadata": {},
     "output_type": "execute_result"
    }
   ],
   "source": [
    "bewerbungen.columns"
   ]
  },
  {
   "cell_type": "code",
   "execution_count": 20,
   "metadata": {},
   "outputs": [
    {
     "data": {
      "image/png": "[encoded data removed]",
      "text/plain": [
       "<Figure size 640x480 with 1 Axes>"
      ]
     },
     "metadata": {},
     "output_type": "display_data"
    }
   ],
   "source": [
    "\n",
    "plt.pie(x= bewerbungen.status.value_counts(),\n",
    "                autopct='%1.0f%%',\n",
    "                startangle= 90,\n",
    "                radius = 1.,\n",
    "                )\n",
    "plt.show()"
   ]
  },
  {
   "cell_type": "markdown",
   "metadata": {},
   "source": []
  }
 ],
 "metadata": {
  "kernelspec": {
   "display_name": ".venv",
   "language": "python",
   "name": "python3"
  },
  "language_info": {
   "codemirror_mode": {
    "name": "ipython",
    "version": 3
   },
   "file_extension": ".py",
   "mimetype": "text/x-python",
   "name": "python",
   "nbconvert_exporter": "python",
   "pygments_lexer": "ipython3",
   "version": "3.11.3"
  }
 },
 "nbformat": 4,
 "nbformat_minor": 2
}
